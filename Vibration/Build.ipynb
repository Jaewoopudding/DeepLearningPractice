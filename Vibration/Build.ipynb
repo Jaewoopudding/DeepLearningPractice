{
 "cells": [
  {
   "cell_type": "code",
   "execution_count": 401,
   "id": "af6f0013",
   "metadata": {},
   "outputs": [],
   "source": [
    "import os\n",
    "import sys\n",
    "\n",
    "import torch\n",
    "import torch.nn as nn\n",
    "import numpy as np\n",
    "import pandas as pd\n",
    "import matplotlib.pyplot as plt\n",
    "\n",
    "from scipy.stats import kurtosis, skew"
   ]
  },
  {
   "cell_type": "code",
   "execution_count": 331,
   "id": "7cac2ea2",
   "metadata": {},
   "outputs": [],
   "source": [
    "class CNNModule(nn.Module):\n",
    "    def __init__(self, sequence_shape, kernel_size=10, base_channel=64, module_count=2, pooling_coef=2,\n",
    "                 cnn_padding='same', padding_mode = 'zeros', channel_multiplier=2, act_fn='relu'):\n",
    "        assert pooling_coef*base_channel == int(pooling_coef*base_channel)\n",
    "        act_func_dict = {\n",
    "                            'relu':nn.ReLU(inplace = True), \n",
    "                            'selu':nn.SELU(inplace = True),\n",
    "                            'elu':nn.ELU(inplace = True),\n",
    "                        }\n",
    "        super().__init__()\n",
    "        self.sequence_shape = sequence_shape # (channel, length) tuple\n",
    "        self.kernel_size = kernel_size\n",
    "        self.base_channel = base_channel\n",
    "        self.module_count = module_count\n",
    "        self.pooling_coef = pooling_coef\n",
    "        self.padding_mode = padding_mode\n",
    "        self.cnn_padding = cnn_padding\n",
    "        self.channel_multiplier = channel_multiplier\n",
    "        self.act_fn = act_func_dict[act_fn]\n",
    "        \n",
    "        self.model = self.build()\n",
    "        \n",
    "        \n",
    "    def build(self):\n",
    "        channel = self.base_channel\n",
    "        length = self.sequence_shape[1]\n",
    "        model = [nn.Conv1d(in_channels = self.sequence_shape[0], out_channels = channel, kernel_size = self.kernel_size,\n",
    "                          padding = self.cnn_padding, padding_mode = self.padding_mode),\n",
    "                self.act_fn]\n",
    "        \n",
    "        priv_channel = channel\n",
    "        channel *= self.channel_multiplier\n",
    "        \n",
    "        for _ in range(self.module_count):\n",
    "            model += [\n",
    "                nn.Conv1d(in_channels=priv_channel, out_channels=channel, kernel_size=self.kernel_size, \n",
    "                            padding='same', padding_mode=self.padding_mode),\n",
    "                self.act_fn,\n",
    "                nn.Conv1d(in_channels=channel, out_channels=channel, kernel_size=self.kernel_size, \n",
    "                            padding='same', padding_mode=self.padding_mode),\n",
    "                self.act_fn,\n",
    "                nn.BatchNorm1d(length),\n",
    "                nn.MaxPool1d(2, stride=2)\n",
    "            ]\n",
    "        \n",
    "            length = int(length/2)\n",
    "            priv_channel = channel\n",
    "            channel *= self.channel_multiplier\n",
    "            \n",
    "        return nn.Sequential(*model)\n",
    "        \n",
    "\n",
    "    def forward(self, x):\n",
    "        return self.model(x)\n",
    "    \n",
    "    \n",
    "class StatAnalModule(nn.Module):\n",
    "    def __init__(self, length, complexity = 2):\n",
    "        super().__init__()\n",
    "        self.length = length\n",
    "        self.complexity = complexity\n",
    "        \n",
    "    def moment(self, x, order):\n",
    "        return torch.sum(torch.pow((x - torch.mean(x,-1).reshape(-1, 1)/torch.std(x, -1)), order) ,-1)\n",
    "        \n",
    "    def forward(self, x):\n",
    "        result = torch.cat([torch.mean(x, -1), torch.max(x, -1)[0], torch.min(x, -1)[0], \\\n",
    "                            torch.sqrt(torch.mean(torch.pow(x, 2), -1)), torch.var(x, -1)])\n",
    "        if self.complexity > 0:\n",
    "            skew = self.length/(self.length-1)/(self.length-2)*torch.sum( torch.pow(x - torch.mean(x,-1).reshape(-1, 1), 3) ,-1)/\\\n",
    "                            torch.var(x, -1)\n",
    "            kurto = 1/(self.length-2)/(self.length=3) * \\\n",
    "                \n",
    "            \n",
    "            result = torch.cat([result, skew, kurto])\n",
    "\n",
    "        \n",
    "        return result\n",
    "    \n",
    "\n",
    "    \n",
    "def call(self, inputs):\n",
    "      mean = tf.reduce_mean(inputs,axis = 1)\n",
    "      max = tf.reduce_max(inputs,axis = 1)\n",
    "      min = tf.reduce_min(inputs,axis = 1)\n",
    "      RMS = tf.math.sqrt(tf.reduce_mean(tf.math.exp(inputs),axis = 1))\n",
    "      var = tf.math.reduce_variance(inputs,axis = 1)\n",
    "      #Skew = tf.reduce_sum(tf.pow(tf.math.exp(inputs) - tf.expand_dims(tf.reduce_mean(inputs,axis = 1), axis = 1),3),axis =1)/self.length_of_signal/tf.pow(tf.math.reduce_std(inputs,axis = 1),3)\n",
    "      #Kurto = tf.reduce_sum(tf.pow(tf.math.exp(inputs) - tf.expand_dims(tf.reduce_mean(inputs,axis = 1), axis = 1),4),axis =1)/self.length_of_signal/tf.pow(tf.math.reduce_std(inputs,axis = 1),4) \n",
    "      #ShapeFactor = RMS*self.length_of_signal/tf.reduce_sum(tf.abs(inputs),axis = 1)\n",
    "      #CrestFactor = tf.reduce_max(tf.abs(inputs),axis = 1)/RMS\n",
    "      #ImpulseFactor = tf.reduce_max(tf.abs(inputs),axis = 1)*self.length_of_signal/tf.reduce_sum(tf.abs(inputs),axis = 1)\n",
    "      # be aware of broadcasting\n",
    "      return tf.stack([mean,max,min,RMS,var],axis = 1)"
   ]
  },
  {
   "cell_type": "code",
   "execution_count": 332,
   "id": "eac0f219",
   "metadata": {},
   "outputs": [],
   "source": [
    "data = torch.rand(1,128)\n",
    "model = CNNModule((1,128))"
   ]
  },
  {
   "cell_type": "code",
   "execution_count": 333,
   "id": "031436d8",
   "metadata": {},
   "outputs": [],
   "source": [
    "\n",
    "length =128"
   ]
  },
  {
   "cell_type": "code",
   "execution_count": 334,
   "id": "e2fdd489",
   "metadata": {},
   "outputs": [],
   "source": [
    "\n"
   ]
  },
  {
   "cell_type": "code",
   "execution_count": 417,
   "id": "d1f8853e",
   "metadata": {
    "scrolled": true
   },
   "outputs": [],
   "source": [
    "ske = []\n",
    "kur = []\n",
    "realske = []\n",
    "realkur = []\n",
    "statts = StatAnalModule(128) \n",
    "\n",
    "for i in range(1000):\n",
    "    a = np.random.randn(1,128)\n",
    "    x= torch.Tensor(a)\n",
    "    result1 = statts(x) # 평균, 최대 최소 rms 분산 왜도 첨도\n",
    "    result2 = [a.mean(), a.max(), a.min(), 1, a.std(), skew(a, -1), kurtosis(a, -1)]\n",
    "    kur.append((result2[-1]/result1[-1]).numpy())\n",
    "    ske.append((result2[-2]/result1[-2]).numpy())\n",
    "    realske.append(result2[-1])\n",
    "    realkur.append(result2[-2])\n",
    "    #for item in zip(result1.numpy(), result2):\n",
    "        #print(item, item[0]/item[1])\n",
    "     #   ske.append(item[0])\n",
    "     #   kur.append(item[1])"
   ]
  },
  {
   "cell_type": "code",
   "execution_count": 418,
   "id": "502940f3",
   "metadata": {},
   "outputs": [
    {
     "data": {
      "image/png": "[encoded data removed]",
      "text/plain": [
       "<Figure size 640x480 with 1 Axes>"
      ]
     },
     "metadata": {},
     "output_type": "display_data"
    },
    {
     "data": {
      "image/png": "[encoded data removed]",
      "text/plain": [
       "<Figure size 640x480 with 1 Axes>"
      ]
     },
     "metadata": {},
     "output_type": "display_data"
    }
   ],
   "source": [
    "plt.hist(np.array(realske), bins = 100)\n",
    "plt.show()\n",
    "plt.hist(np.array(realkur), bins = 100)\n",
    "plt.show()"
   ]
  },
  {
   "cell_type": "code",
   "execution_count": 419,
   "id": "d20d29b2",
   "metadata": {},
   "outputs": [
    {
     "data": {
      "image/png": "[encoded data removed]",
      "text/plain": [
       "<Figure size 640x480 with 1 Axes>"
      ]
     },
     "metadata": {},
     "output_type": "display_data"
    },
    {
     "data": {
      "image/png": "[encoded data removed]",
      "text/plain": [
       "<Figure size 640x480 with 1 Axes>"
      ]
     },
     "metadata": {},
     "output_type": "display_data"
    }
   ],
   "source": [
    "plt.hist(np.array(ske), bins = 100)\n",
    "plt.show()\n",
    "plt.hist(np.array(kur), bins = 100)\n",
    "plt.show()"
   ]
  },
  {
   "cell_type": "code",
   "execution_count": 263,
   "id": "648bd984",
   "metadata": {},
   "outputs": [
    {
     "data": {
      "text/plain": [
       "tensor([3.0457, 2.6082, 3.0457, 2.6082])"
      ]
     },
     "execution_count": 263,
     "metadata": {},
     "output_type": "execute_result"
    }
   ],
   "source": [
    "torch.cat([torch.max(x, -1)[0], torch.max(x, -1)[0]])"
   ]
  },
  {
   "cell_type": "code",
   "execution_count": 280,
   "id": "399a3318",
   "metadata": {},
   "outputs": [
    {
     "data": {
      "text/plain": [
       "tensor(-0.0383)"
      ]
     },
     "execution_count": 280,
     "metadata": {},
     "output_type": "execute_result"
    }
   ],
   "source": [
    "a = torch.mean(x, -1)\n",
    "a[0]"
   ]
  },
  {
   "cell_type": "code",
   "execution_count": 307,
   "id": "ac8f6611",
   "metadata": {},
   "outputs": [
    {
     "data": {
      "text/plain": [
       "array([-0.39085514])"
      ]
     },
     "execution_count": 307,
     "metadata": {},
     "output_type": "execute_result"
    }
   ],
   "source": [
    "skew(a, -1)"
   ]
  },
  {
   "cell_type": "code",
   "execution_count": 432,
   "id": "713dc406",
   "metadata": {},
   "outputs": [],
   "source": [
    "a = np.random.randn(2,128)\n",
    "x= torch.Tensor(a)"
   ]
  },
  {
   "cell_type": "code",
   "execution_count": 446,
   "id": "5cd93f4e",
   "metadata": {},
   "outputs": [
    {
     "ename": "RuntimeError",
     "evalue": "shape '[2, 128]' is invalid for input of size 2",
     "output_type": "error",
     "traceback": [
      "\u001b[1;31m---------------------------------------------------------------------------\u001b[0m",
      "\u001b[1;31mRuntimeError\u001b[0m                              Traceback (most recent call last)",
      "Cell \u001b[1;32mIn[446], line 1\u001b[0m\n\u001b[1;32m----> 1\u001b[0m torch\u001b[38;5;241m.\u001b[39msum(torch\u001b[38;5;241m.\u001b[39mpow((x \u001b[38;5;241m-\u001b[39m \u001b[43mtorch\u001b[49m\u001b[38;5;241;43m.\u001b[39;49m\u001b[43mmean\u001b[49m\u001b[43m(\u001b[49m\u001b[43mx\u001b[49m\u001b[43m,\u001b[49m\u001b[38;5;241;43m-\u001b[39;49m\u001b[38;5;241;43m1\u001b[39;49m\u001b[43m)\u001b[49m\u001b[38;5;241;43m.\u001b[39;49m\u001b[43mreshape\u001b[49m\u001b[43m(\u001b[49m\u001b[38;5;241;43m2\u001b[39;49m\u001b[43m,\u001b[49m\u001b[43m \u001b[49m\u001b[38;5;241;43m128\u001b[39;49m\u001b[43m)\u001b[49m\u001b[38;5;241m/\u001b[39mtorch\u001b[38;5;241m.\u001b[39mstd(x, \u001b[38;5;241m-\u001b[39m\u001b[38;5;241m1\u001b[39m)), order) ,\u001b[38;5;241m-\u001b[39m\u001b[38;5;241m1\u001b[39m)\n",
      "\u001b[1;31mRuntimeError\u001b[0m: shape '[2, 128]' is invalid for input of size 2"
     ]
    }
   ],
   "source": [
    "torch.sum(torch.pow((x - torch.mean(x,-1).reshape(2, 128)/torch.std(x, -1)), order) ,-1)"
   ]
  }
 ],
 "metadata": {
  "kernelspec": {
   "display_name": "Python 3 (ipykernel)",
   "language": "python",
   "name": "python3"
  },
  "language_info": {
   "codemirror_mode": {
    "name": "ipython",
    "version": 3
   },
   "file_extension": ".py",
   "mimetype": "text/x-python",
   "name": "python",
   "nbconvert_exporter": "python",
   "pygments_lexer": "ipython3",
   "version": "3.9.16"
  }
 },
 "nbformat": 4,
 "nbformat_minor": 5
}
