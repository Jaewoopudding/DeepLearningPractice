{
 "cells": [
  {
   "cell_type": "code",
   "execution_count": 1,
   "id": "af6f0013",
   "metadata": {},
   "outputs": [],
   "source": [
    "import os\n",
    "import sys\n",
    "\n",
    "import torch\n",
    "import torch.nn as nn\n",
    "import numpy as np\n",
    "import pandas as pd"
   ]
  },
  {
   "cell_type": "code",
   "execution_count": 54,
   "id": "d0d062b1",
   "metadata": {},
   "outputs": [],
   "source": [
    "class DebugLayer(nn.Module):\n",
    "    def __init__(self):\n",
    "        super().__init__()\n",
    "    \n",
    "    def forward(self, x):\n",
    "        print(x.shape)"
   ]
  },
  {
   "cell_type": "code",
   "execution_count": 57,
   "id": "c02e747f",
   "metadata": {},
   "outputs": [],
   "source": []
  },
  {
   "cell_type": "code",
   "execution_count": 55,
   "id": "7cac2ea2",
   "metadata": {},
   "outputs": [],
   "source": [
    "class CNNModule(nn.Module):\n",
    "    def __init__(self, sequence_shape, kernel_size=10, base_channel=64, module_count=2, pooling_coef=2,\n",
    "                 cnn_padding='same', padding_mode = 'reflect', channel_multiplier=2, act_fn='relu', debug = None):\n",
    "        assert pooling_coef*base_channel == int(pooling_coef*base_channel)\n",
    "        act_func_dict = {\n",
    "                            'relu':nn.ReLU(inplace = True), \n",
    "                            'selu':nn.SELU(inplace = True),\n",
    "                            'elu':nn.ELU(inplace = True),\n",
    "                        }\n",
    "        self.debug = DebugLayer()\n",
    "        \n",
    "        super().__init__()\n",
    "        self.sequence_shape = sequence_shape # (length, channel) tuple\n",
    "        self.kernel_size = kernel_size\n",
    "        self.base_channel = base_channel\n",
    "        self.module_count = module_count\n",
    "        self.pooling_coef = pooling_coef\n",
    "        self.padding_mode = padding_mode\n",
    "        self.cnn_padding = cnn_padding\n",
    "        self.channel_multiplier = channel_multiplier\n",
    "        self.act_fn = act_func_dict[act_fn]\n",
    "        \n",
    "        self.model = self.build()\n",
    "        \n",
    "    def build(self):\n",
    "        channel = self.base_channel\n",
    "        length = self.sequence_shape[0]\n",
    "        model = [nn.Conv1d(in_channels = self.sequence_shape[1], out_channels = channel, kernel_size = self.kernel_size,\n",
    "                          padding = self.cnn_padding, padding_mode = self.padding_mode),\n",
    "                self.act_fn, \n",
    "                self.debug]\n",
    "        channel *= self.channel_multiplier\n",
    "        \n",
    "        for _ in range(self.module_count):\n",
    "            model += [\n",
    "                nn.Conv1d(in_channels=channel, out_channels=channel, kernel_size=self.kernel_size, \n",
    "                            padding='same', padding_mode=self.padding_mode),\n",
    "                self.act_fn,\n",
    "                nn.Conv1d(in_channels=channel, out_channels=channel, kernel_size=self.kernel_size, \n",
    "                            padding='same', padding_mode=self.padding_mode),\n",
    "                self.act_fn,\n",
    "                nn.BatchNorm1d(length),\n",
    "                nn.MaxPool1d(length, stride=2)\n",
    "            ]\n",
    "        \n",
    "            length = int(length/2)\n",
    "            channel *= self.channel_multiplier\n",
    "            \n",
    "        return nn.Sequential(*model)\n",
    "        \n",
    "\n",
    "    def forward(self, x):\n",
    "        return self.model(x)\n",
    "        "
   ]
  },
  {
   "cell_type": "code",
   "execution_count": 56,
   "id": "2fba7a30",
   "metadata": {},
   "outputs": [
    {
     "ename": "AttributeError",
     "evalue": "cannot assign module before Module.__init__() call",
     "output_type": "error",
     "traceback": [
      "\u001b[1;31m---------------------------------------------------------------------------\u001b[0m",
      "\u001b[1;31mAttributeError\u001b[0m                            Traceback (most recent call last)",
      "Cell \u001b[1;32mIn[56], line 2\u001b[0m\n\u001b[0;32m      1\u001b[0m data \u001b[38;5;241m=\u001b[39m torch\u001b[38;5;241m.\u001b[39mrand(\u001b[38;5;241m1200\u001b[39m,\u001b[38;5;241m2\u001b[39m)\n\u001b[1;32m----> 2\u001b[0m model \u001b[38;5;241m=\u001b[39m \u001b[43mCNNModule\u001b[49m\u001b[43m(\u001b[49m\u001b[43m(\u001b[49m\u001b[38;5;241;43m128\u001b[39;49m\u001b[43m,\u001b[49m\u001b[38;5;241;43m2\u001b[39;49m\u001b[43m)\u001b[49m\u001b[43m)\u001b[49m\n",
      "Cell \u001b[1;32mIn[55], line 10\u001b[0m, in \u001b[0;36mCNNModule.__init__\u001b[1;34m(self, sequence_shape, kernel_size, base_channel, module_count, pooling_coef, cnn_padding, padding_mode, channel_multiplier, act_fn)\u001b[0m\n\u001b[0;32m      4\u001b[0m \u001b[38;5;28;01massert\u001b[39;00m pooling_coef\u001b[38;5;241m*\u001b[39mbase_channel \u001b[38;5;241m==\u001b[39m \u001b[38;5;28mint\u001b[39m(pooling_coef\u001b[38;5;241m*\u001b[39mbase_channel)\n\u001b[0;32m      5\u001b[0m act_func_dict \u001b[38;5;241m=\u001b[39m {\n\u001b[0;32m      6\u001b[0m                     \u001b[38;5;124m'\u001b[39m\u001b[38;5;124mrelu\u001b[39m\u001b[38;5;124m'\u001b[39m:nn\u001b[38;5;241m.\u001b[39mReLU(inplace \u001b[38;5;241m=\u001b[39m \u001b[38;5;28;01mTrue\u001b[39;00m), \n\u001b[0;32m      7\u001b[0m                     \u001b[38;5;124m'\u001b[39m\u001b[38;5;124mselu\u001b[39m\u001b[38;5;124m'\u001b[39m:nn\u001b[38;5;241m.\u001b[39mSELU(inplace \u001b[38;5;241m=\u001b[39m \u001b[38;5;28;01mTrue\u001b[39;00m),\n\u001b[0;32m      8\u001b[0m                     \u001b[38;5;124m'\u001b[39m\u001b[38;5;124melu\u001b[39m\u001b[38;5;124m'\u001b[39m:nn\u001b[38;5;241m.\u001b[39mELU(inplace \u001b[38;5;241m=\u001b[39m \u001b[38;5;28;01mTrue\u001b[39;00m),\n\u001b[0;32m      9\u001b[0m                 }\n\u001b[1;32m---> 10\u001b[0m \u001b[38;5;28mself\u001b[39m\u001b[38;5;241m.\u001b[39mdebug \u001b[38;5;241m=\u001b[39m DebugLayer()\n\u001b[0;32m     12\u001b[0m \u001b[38;5;28msuper\u001b[39m()\u001b[38;5;241m.\u001b[39m\u001b[38;5;21m__init__\u001b[39m()\n\u001b[0;32m     13\u001b[0m \u001b[38;5;28mself\u001b[39m\u001b[38;5;241m.\u001b[39msequence_shape \u001b[38;5;241m=\u001b[39m sequence_shape \u001b[38;5;66;03m# (length, channel) tuple\u001b[39;00m\n",
      "File \u001b[1;32mD:\\Anaconda\\envs\\introtorch\\lib\\site-packages\\torch\\nn\\modules\\module.py:1298\u001b[0m, in \u001b[0;36mModule.__setattr__\u001b[1;34m(self, name, value)\u001b[0m\n\u001b[0;32m   1296\u001b[0m \u001b[38;5;28;01mif\u001b[39;00m \u001b[38;5;28misinstance\u001b[39m(value, Module):\n\u001b[0;32m   1297\u001b[0m     \u001b[38;5;28;01mif\u001b[39;00m modules \u001b[38;5;129;01mis\u001b[39;00m \u001b[38;5;28;01mNone\u001b[39;00m:\n\u001b[1;32m-> 1298\u001b[0m         \u001b[38;5;28;01mraise\u001b[39;00m \u001b[38;5;167;01mAttributeError\u001b[39;00m(\n\u001b[0;32m   1299\u001b[0m             \u001b[38;5;124m\"\u001b[39m\u001b[38;5;124mcannot assign module before Module.__init__() call\u001b[39m\u001b[38;5;124m\"\u001b[39m)\n\u001b[0;32m   1300\u001b[0m     remove_from(\u001b[38;5;28mself\u001b[39m\u001b[38;5;241m.\u001b[39m\u001b[38;5;18m__dict__\u001b[39m, \u001b[38;5;28mself\u001b[39m\u001b[38;5;241m.\u001b[39m_parameters, \u001b[38;5;28mself\u001b[39m\u001b[38;5;241m.\u001b[39m_buffers, \u001b[38;5;28mself\u001b[39m\u001b[38;5;241m.\u001b[39m_non_persistent_buffers_set)\n\u001b[0;32m   1301\u001b[0m     modules[name] \u001b[38;5;241m=\u001b[39m value\n",
      "\u001b[1;31mAttributeError\u001b[0m: cannot assign module before Module.__init__() call"
     ]
    }
   ],
   "source": [
    "data = torch.rand(1200,2)\n",
    "model = CNNModule((128,2))"
   ]
  },
  {
   "cell_type": "code",
   "execution_count": 46,
   "id": "0db080cd",
   "metadata": {},
   "outputs": [
    {
     "data": {
      "text/plain": [
       "CNNModule(\n",
       "  (act_fn): ReLU(inplace=True)\n",
       "  (model): Sequential(\n",
       "    (0): Conv1d(2, 64, kernel_size=(10,), stride=(1,), padding=same, padding_mode=reflect)\n",
       "    (1): ReLU(inplace=True)\n",
       "    (2): Conv1d(128, 128, kernel_size=(10,), stride=(1,), padding=same, padding_mode=reflect)\n",
       "    (3): ReLU(inplace=True)\n",
       "    (4): Conv1d(128, 128, kernel_size=(10,), stride=(1,), padding=same, padding_mode=reflect)\n",
       "    (5): ReLU(inplace=True)\n",
       "    (6): BatchNorm1d(128, eps=1e-05, momentum=0.1, affine=True, track_running_stats=True)\n",
       "    (7): MaxPool1d(kernel_size=128, stride=2, padding=0, dilation=1, ceil_mode=False)\n",
       "    (8): Conv1d(256, 256, kernel_size=(10,), stride=(1,), padding=same, padding_mode=reflect)\n",
       "    (9): ReLU(inplace=True)\n",
       "    (10): Conv1d(256, 256, kernel_size=(10,), stride=(1,), padding=same, padding_mode=reflect)\n",
       "    (11): ReLU(inplace=True)\n",
       "    (12): BatchNorm1d(64, eps=1e-05, momentum=0.1, affine=True, track_running_stats=True)\n",
       "    (13): MaxPool1d(kernel_size=64, stride=2, padding=0, dilation=1, ceil_mode=False)\n",
       "  )\n",
       ")"
      ]
     },
     "execution_count": 46,
     "metadata": {},
     "output_type": "execute_result"
    }
   ],
   "source": [
    "model"
   ]
  },
  {
   "cell_type": "code",
   "execution_count": 47,
   "id": "b2ade447",
   "metadata": {},
   "outputs": [
    {
     "ename": "RuntimeError",
     "evalue": "Argument #4: Padding size should be less than the corresponding input dimension, but got: padding (4, 5) at dimension 1 of input [1200, 2]",
     "output_type": "error",
     "traceback": [
      "\u001b[1;31m---------------------------------------------------------------------------\u001b[0m",
      "\u001b[1;31mRuntimeError\u001b[0m                              Traceback (most recent call last)",
      "Cell \u001b[1;32mIn[47], line 1\u001b[0m\n\u001b[1;32m----> 1\u001b[0m \u001b[43mmodel\u001b[49m\u001b[43m(\u001b[49m\u001b[43mdata\u001b[49m\u001b[43m)\u001b[49m\n",
      "File \u001b[1;32mD:\\Anaconda\\envs\\introtorch\\lib\\site-packages\\torch\\nn\\modules\\module.py:1194\u001b[0m, in \u001b[0;36mModule._call_impl\u001b[1;34m(self, *input, **kwargs)\u001b[0m\n\u001b[0;32m   1190\u001b[0m \u001b[38;5;66;03m# If we don't have any hooks, we want to skip the rest of the logic in\u001b[39;00m\n\u001b[0;32m   1191\u001b[0m \u001b[38;5;66;03m# this function, and just call forward.\u001b[39;00m\n\u001b[0;32m   1192\u001b[0m \u001b[38;5;28;01mif\u001b[39;00m \u001b[38;5;129;01mnot\u001b[39;00m (\u001b[38;5;28mself\u001b[39m\u001b[38;5;241m.\u001b[39m_backward_hooks \u001b[38;5;129;01mor\u001b[39;00m \u001b[38;5;28mself\u001b[39m\u001b[38;5;241m.\u001b[39m_forward_hooks \u001b[38;5;129;01mor\u001b[39;00m \u001b[38;5;28mself\u001b[39m\u001b[38;5;241m.\u001b[39m_forward_pre_hooks \u001b[38;5;129;01mor\u001b[39;00m _global_backward_hooks\n\u001b[0;32m   1193\u001b[0m         \u001b[38;5;129;01mor\u001b[39;00m _global_forward_hooks \u001b[38;5;129;01mor\u001b[39;00m _global_forward_pre_hooks):\n\u001b[1;32m-> 1194\u001b[0m     \u001b[38;5;28;01mreturn\u001b[39;00m forward_call(\u001b[38;5;241m*\u001b[39m\u001b[38;5;28minput\u001b[39m, \u001b[38;5;241m*\u001b[39m\u001b[38;5;241m*\u001b[39mkwargs)\n\u001b[0;32m   1195\u001b[0m \u001b[38;5;66;03m# Do not call functions when jit is used\u001b[39;00m\n\u001b[0;32m   1196\u001b[0m full_backward_hooks, non_full_backward_hooks \u001b[38;5;241m=\u001b[39m [], []\n",
      "Cell \u001b[1;32mIn[37], line 51\u001b[0m, in \u001b[0;36mCNNModule.forward\u001b[1;34m(self, x)\u001b[0m\n\u001b[0;32m     50\u001b[0m \u001b[38;5;28;01mdef\u001b[39;00m \u001b[38;5;21mforward\u001b[39m(\u001b[38;5;28mself\u001b[39m, x):\n\u001b[1;32m---> 51\u001b[0m     \u001b[38;5;28;01mreturn\u001b[39;00m \u001b[38;5;28;43mself\u001b[39;49m\u001b[38;5;241;43m.\u001b[39;49m\u001b[43mmodel\u001b[49m\u001b[43m(\u001b[49m\u001b[43mx\u001b[49m\u001b[43m)\u001b[49m\n",
      "File \u001b[1;32mD:\\Anaconda\\envs\\introtorch\\lib\\site-packages\\torch\\nn\\modules\\module.py:1194\u001b[0m, in \u001b[0;36mModule._call_impl\u001b[1;34m(self, *input, **kwargs)\u001b[0m\n\u001b[0;32m   1190\u001b[0m \u001b[38;5;66;03m# If we don't have any hooks, we want to skip the rest of the logic in\u001b[39;00m\n\u001b[0;32m   1191\u001b[0m \u001b[38;5;66;03m# this function, and just call forward.\u001b[39;00m\n\u001b[0;32m   1192\u001b[0m \u001b[38;5;28;01mif\u001b[39;00m \u001b[38;5;129;01mnot\u001b[39;00m (\u001b[38;5;28mself\u001b[39m\u001b[38;5;241m.\u001b[39m_backward_hooks \u001b[38;5;129;01mor\u001b[39;00m \u001b[38;5;28mself\u001b[39m\u001b[38;5;241m.\u001b[39m_forward_hooks \u001b[38;5;129;01mor\u001b[39;00m \u001b[38;5;28mself\u001b[39m\u001b[38;5;241m.\u001b[39m_forward_pre_hooks \u001b[38;5;129;01mor\u001b[39;00m _global_backward_hooks\n\u001b[0;32m   1193\u001b[0m         \u001b[38;5;129;01mor\u001b[39;00m _global_forward_hooks \u001b[38;5;129;01mor\u001b[39;00m _global_forward_pre_hooks):\n\u001b[1;32m-> 1194\u001b[0m     \u001b[38;5;28;01mreturn\u001b[39;00m forward_call(\u001b[38;5;241m*\u001b[39m\u001b[38;5;28minput\u001b[39m, \u001b[38;5;241m*\u001b[39m\u001b[38;5;241m*\u001b[39mkwargs)\n\u001b[0;32m   1195\u001b[0m \u001b[38;5;66;03m# Do not call functions when jit is used\u001b[39;00m\n\u001b[0;32m   1196\u001b[0m full_backward_hooks, non_full_backward_hooks \u001b[38;5;241m=\u001b[39m [], []\n",
      "File \u001b[1;32mD:\\Anaconda\\envs\\introtorch\\lib\\site-packages\\torch\\nn\\modules\\container.py:204\u001b[0m, in \u001b[0;36mSequential.forward\u001b[1;34m(self, input)\u001b[0m\n\u001b[0;32m    202\u001b[0m \u001b[38;5;28;01mdef\u001b[39;00m \u001b[38;5;21mforward\u001b[39m(\u001b[38;5;28mself\u001b[39m, \u001b[38;5;28minput\u001b[39m):\n\u001b[0;32m    203\u001b[0m     \u001b[38;5;28;01mfor\u001b[39;00m module \u001b[38;5;129;01min\u001b[39;00m \u001b[38;5;28mself\u001b[39m:\n\u001b[1;32m--> 204\u001b[0m         \u001b[38;5;28minput\u001b[39m \u001b[38;5;241m=\u001b[39m \u001b[43mmodule\u001b[49m\u001b[43m(\u001b[49m\u001b[38;5;28;43minput\u001b[39;49m\u001b[43m)\u001b[49m\n\u001b[0;32m    205\u001b[0m     \u001b[38;5;28;01mreturn\u001b[39;00m \u001b[38;5;28minput\u001b[39m\n",
      "File \u001b[1;32mD:\\Anaconda\\envs\\introtorch\\lib\\site-packages\\torch\\nn\\modules\\module.py:1194\u001b[0m, in \u001b[0;36mModule._call_impl\u001b[1;34m(self, *input, **kwargs)\u001b[0m\n\u001b[0;32m   1190\u001b[0m \u001b[38;5;66;03m# If we don't have any hooks, we want to skip the rest of the logic in\u001b[39;00m\n\u001b[0;32m   1191\u001b[0m \u001b[38;5;66;03m# this function, and just call forward.\u001b[39;00m\n\u001b[0;32m   1192\u001b[0m \u001b[38;5;28;01mif\u001b[39;00m \u001b[38;5;129;01mnot\u001b[39;00m (\u001b[38;5;28mself\u001b[39m\u001b[38;5;241m.\u001b[39m_backward_hooks \u001b[38;5;129;01mor\u001b[39;00m \u001b[38;5;28mself\u001b[39m\u001b[38;5;241m.\u001b[39m_forward_hooks \u001b[38;5;129;01mor\u001b[39;00m \u001b[38;5;28mself\u001b[39m\u001b[38;5;241m.\u001b[39m_forward_pre_hooks \u001b[38;5;129;01mor\u001b[39;00m _global_backward_hooks\n\u001b[0;32m   1193\u001b[0m         \u001b[38;5;129;01mor\u001b[39;00m _global_forward_hooks \u001b[38;5;129;01mor\u001b[39;00m _global_forward_pre_hooks):\n\u001b[1;32m-> 1194\u001b[0m     \u001b[38;5;28;01mreturn\u001b[39;00m forward_call(\u001b[38;5;241m*\u001b[39m\u001b[38;5;28minput\u001b[39m, \u001b[38;5;241m*\u001b[39m\u001b[38;5;241m*\u001b[39mkwargs)\n\u001b[0;32m   1195\u001b[0m \u001b[38;5;66;03m# Do not call functions when jit is used\u001b[39;00m\n\u001b[0;32m   1196\u001b[0m full_backward_hooks, non_full_backward_hooks \u001b[38;5;241m=\u001b[39m [], []\n",
      "File \u001b[1;32mD:\\Anaconda\\envs\\introtorch\\lib\\site-packages\\torch\\nn\\modules\\conv.py:313\u001b[0m, in \u001b[0;36mConv1d.forward\u001b[1;34m(self, input)\u001b[0m\n\u001b[0;32m    312\u001b[0m \u001b[38;5;28;01mdef\u001b[39;00m \u001b[38;5;21mforward\u001b[39m(\u001b[38;5;28mself\u001b[39m, \u001b[38;5;28minput\u001b[39m: Tensor) \u001b[38;5;241m-\u001b[39m\u001b[38;5;241m>\u001b[39m Tensor:\n\u001b[1;32m--> 313\u001b[0m     \u001b[38;5;28;01mreturn\u001b[39;00m \u001b[38;5;28;43mself\u001b[39;49m\u001b[38;5;241;43m.\u001b[39;49m\u001b[43m_conv_forward\u001b[49m\u001b[43m(\u001b[49m\u001b[38;5;28;43minput\u001b[39;49m\u001b[43m,\u001b[49m\u001b[43m \u001b[49m\u001b[38;5;28;43mself\u001b[39;49m\u001b[38;5;241;43m.\u001b[39;49m\u001b[43mweight\u001b[49m\u001b[43m,\u001b[49m\u001b[43m \u001b[49m\u001b[38;5;28;43mself\u001b[39;49m\u001b[38;5;241;43m.\u001b[39;49m\u001b[43mbias\u001b[49m\u001b[43m)\u001b[49m\n",
      "File \u001b[1;32mD:\\Anaconda\\envs\\introtorch\\lib\\site-packages\\torch\\nn\\modules\\conv.py:306\u001b[0m, in \u001b[0;36mConv1d._conv_forward\u001b[1;34m(self, input, weight, bias)\u001b[0m\n\u001b[0;32m    304\u001b[0m \u001b[38;5;28;01mdef\u001b[39;00m \u001b[38;5;21m_conv_forward\u001b[39m(\u001b[38;5;28mself\u001b[39m, \u001b[38;5;28minput\u001b[39m: Tensor, weight: Tensor, bias: Optional[Tensor]):\n\u001b[0;32m    305\u001b[0m     \u001b[38;5;28;01mif\u001b[39;00m \u001b[38;5;28mself\u001b[39m\u001b[38;5;241m.\u001b[39mpadding_mode \u001b[38;5;241m!=\u001b[39m \u001b[38;5;124m'\u001b[39m\u001b[38;5;124mzeros\u001b[39m\u001b[38;5;124m'\u001b[39m:\n\u001b[1;32m--> 306\u001b[0m         \u001b[38;5;28;01mreturn\u001b[39;00m F\u001b[38;5;241m.\u001b[39mconv1d(\u001b[43mF\u001b[49m\u001b[38;5;241;43m.\u001b[39;49m\u001b[43mpad\u001b[49m\u001b[43m(\u001b[49m\u001b[38;5;28;43minput\u001b[39;49m\u001b[43m,\u001b[49m\u001b[43m \u001b[49m\u001b[38;5;28;43mself\u001b[39;49m\u001b[38;5;241;43m.\u001b[39;49m\u001b[43m_reversed_padding_repeated_twice\u001b[49m\u001b[43m,\u001b[49m\u001b[43m \u001b[49m\u001b[43mmode\u001b[49m\u001b[38;5;241;43m=\u001b[39;49m\u001b[38;5;28;43mself\u001b[39;49m\u001b[38;5;241;43m.\u001b[39;49m\u001b[43mpadding_mode\u001b[49m\u001b[43m)\u001b[49m,\n\u001b[0;32m    307\u001b[0m                         weight, bias, \u001b[38;5;28mself\u001b[39m\u001b[38;5;241m.\u001b[39mstride,\n\u001b[0;32m    308\u001b[0m                         _single(\u001b[38;5;241m0\u001b[39m), \u001b[38;5;28mself\u001b[39m\u001b[38;5;241m.\u001b[39mdilation, \u001b[38;5;28mself\u001b[39m\u001b[38;5;241m.\u001b[39mgroups)\n\u001b[0;32m    309\u001b[0m     \u001b[38;5;28;01mreturn\u001b[39;00m F\u001b[38;5;241m.\u001b[39mconv1d(\u001b[38;5;28minput\u001b[39m, weight, bias, \u001b[38;5;28mself\u001b[39m\u001b[38;5;241m.\u001b[39mstride,\n\u001b[0;32m    310\u001b[0m                     \u001b[38;5;28mself\u001b[39m\u001b[38;5;241m.\u001b[39mpadding, \u001b[38;5;28mself\u001b[39m\u001b[38;5;241m.\u001b[39mdilation, \u001b[38;5;28mself\u001b[39m\u001b[38;5;241m.\u001b[39mgroups)\n",
      "\u001b[1;31mRuntimeError\u001b[0m: Argument #4: Padding size should be less than the corresponding input dimension, but got: padding (4, 5) at dimension 1 of input [1200, 2]"
     ]
    }
   ],
   "source": [
    "model(data)"
   ]
  },
  {
   "cell_type": "code",
   "execution_count": 55,
   "id": "d1b6b728",
   "metadata": {},
   "outputs": [],
   "source": [
    "class ConvolutionalLSTM(nn.Module):\n",
    "    def __init__(self, input_size, cnn_kernel_size=10, cnn_kernel_channel=64, cnn_kernel_multiplier=2, cnn_module_count=2, \n",
    "                 cnn_padding_mode = 'reflect', cnn_act_fn='relu' ,mlp_neurons=128,  mlp_act_fn='relu', class_count=5,\n",
    "                 lstm_cells=50, lstm_act_fn='tanh'):\n",
    "        super().__init__()\n",
    "        assert cnn_kernel_multiplier*cnn_kernel_channel == int(cnn_kernel_multiplier*cnn_kernel_channel)\n",
    "        \n",
    "        self.input_size = input_size # (channel, length)\n",
    "        self.cnn_kernel_size = cnn_kernel_size\n",
    "        self.cnn_kernel_channel= cnn_kernel_channel\n",
    "        self.cnn_kernel_multiplier = cnn_kernel_multiplier\n",
    "        self.cnn_module_count = cnn_module_count\n",
    "        self.cnn_padding_mode = cnn_padding_mode\n",
    "        self.cnn_act_fn = cnn_act_fn\n",
    "        self.mlp_neurons = mlp_neurons\n",
    "        self.mlp_act_fn = mlp_act_fn\n",
    "        self.class_count = class_count\n",
    "        self.lstm_cells = lstm_cells\n",
    "        self.lstm_act_fn = lstm_act_fn\n",
    "        \n",
    "        self.cnn = None\n",
    "        self.mlp = None\n",
    "\n",
    "                \n",
    "        self.cnn_constructure()\n",
    "        self.mlp_constructure(self.lstm_cells)\n",
    "        \n",
    "    \n",
    "    def cnn_constructure(self):\n",
    "        length = self.input_size[1]\n",
    "        kernel_channel = self.cnn_kernel_channel\n",
    "        cnn = [nn.Conv1d(in_channels=self.input_size[0], out_channels=kernel_channel, kernel_size=self.cnn_kernel_size, \n",
    "                            padding='same', padding_mode=self.cnn_padding_mode)]\n",
    "        kernel_channel *= self.cnn_kernel_multiplier\n",
    "        \n",
    "        for _ in range(self.cnn_module_count):\n",
    "            cnn += [\n",
    "                nn.Conv1d(in_channels=kernel_channel, out_channels=kernel_channel, kernel_size=self.cnn_kernel_size, \n",
    "                            padding='same', padding_mode=self.cnn_padding_mode),\n",
    "                nn.Conv1d(in_channels=kernel_channel, out_channels=kernel_channel, kernel_size=self.cnn_kernel_size, \n",
    "                            padding='same', padding_mode=self.cnn_padding_mode),\n",
    "                nn.BatchNorm1d(length),\n",
    "                nn.MaxPool1d(length, stride=2)\n",
    "            ]\n",
    "            legnth = int(length/2)\n",
    "            kernel_channel *= self.cnn_kernel_multiplier\n",
    "        self.cnn = nn.Sequential(*cnn)\n",
    "        \n",
    "    def mlp_constructure(self, input_shape):\n",
    "        self.mlp = nn.Sequential(*[\n",
    "            nn.Linear(in_features=input_shape, out_features=self.mlp_neurons),\n",
    "            nn.Linear(in_features=self.mlp_neurons, out_features=int(self.mlp_neurons/2)),\n",
    "            nn.Linear(in_features=int(self.mlp_neurons/2), out_features=self.class_count)\n",
    "        ])\n",
    "        "
   ]
  },
  {
   "cell_type": "code",
   "execution_count": 57,
   "id": "34f1a587",
   "metadata": {},
   "outputs": [
    {
     "name": "stdout",
     "output_type": "stream",
     "text": [
      "Sequential(\n",
      "  (0): Conv1d(2, 64, kernel_size=(10,), stride=(1,), padding=same, padding_mode=reflect)\n",
      "  (1): Conv1d(128, 128, kernel_size=(10,), stride=(1,), padding=same, padding_mode=reflect)\n",
      "  (2): Conv1d(128, 128, kernel_size=(10,), stride=(1,), padding=same, padding_mode=reflect)\n",
      "  (3): BatchNorm1d(3, eps=1e-05, momentum=0.1, affine=True, track_running_stats=True)\n",
      "  (4): MaxPool1d(kernel_size=3, stride=2, padding=0, dilation=1, ceil_mode=False)\n",
      "  (5): Conv1d(256, 256, kernel_size=(10,), stride=(1,), padding=same, padding_mode=reflect)\n",
      "  (6): Conv1d(256, 256, kernel_size=(10,), stride=(1,), padding=same, padding_mode=reflect)\n",
      "  (7): BatchNorm1d(3, eps=1e-05, momentum=0.1, affine=True, track_running_stats=True)\n",
      "  (8): MaxPool1d(kernel_size=3, stride=2, padding=0, dilation=1, ceil_mode=False)\n",
      ")\n",
      "Sequential(\n",
      "  (0): Linear(in_features=50, out_features=128, bias=True)\n",
      "  (1): Linear(in_features=128, out_features=64, bias=True)\n",
      "  (2): Linear(in_features=64, out_features=5, bias=True)\n",
      ")\n"
     ]
    }
   ],
   "source": [
    "a = ConvolutionalLSTM(input_size=(2,3))\n",
    "print(a.cnn)\n",
    "print(a.mlp)"
   ]
  },
  {
   "cell_type": "code",
   "execution_count": null,
   "id": "b62a22a2",
   "metadata": {},
   "outputs": [],
   "source": []
  },
  {
   "cell_type": "code",
   "execution_count": null,
   "id": "564efa1f",
   "metadata": {},
   "outputs": [],
   "source": []
  },
  {
   "cell_type": "code",
   "execution_count": null,
   "id": "ebcd41b2",
   "metadata": {},
   "outputs": [],
   "source": []
  },
  {
   "cell_type": "code",
   "execution_count": null,
   "id": "c18ea000",
   "metadata": {},
   "outputs": [],
   "source": []
  }
 ],
 "metadata": {
  "kernelspec": {
   "display_name": "Python 3 (ipykernel)",
   "language": "python",
   "name": "python3"
  },
  "language_info": {
   "codemirror_mode": {
    "name": "ipython",
    "version": 3
   },
   "file_extension": ".py",
   "mimetype": "text/x-python",
   "name": "python",
   "nbconvert_exporter": "python",
   "pygments_lexer": "ipython3",
   "version": "3.9.16"
  }
 },
 "nbformat": 4,
 "nbformat_minor": 5
}
